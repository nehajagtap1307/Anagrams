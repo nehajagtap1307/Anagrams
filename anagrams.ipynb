{
  "nbformat": 4,
  "nbformat_minor": 0,
  "metadata": {
    "colab": {
      "provenance": []
    },
    "kernelspec": {
      "name": "python3",
      "display_name": "Python 3"
    },
    "language_info": {
      "name": "python"
    }
  },
  "cells": [
    {
      "cell_type": "code",
      "execution_count": 4,
      "metadata": {
        "colab": {
          "base_uri": "https://localhost:8080/"
        },
        "id": "CNZ5jZEahqBy",
        "outputId": "c2244215-392e-4600-e867-bd82949cfdd5"
      },
      "outputs": [
        {
          "output_type": "stream",
          "name": "stdout",
          "text": [
            "Enter the first stringinch\n",
            "Enter the second stringchin\n",
            "count1= 418\n",
            "count2= 418\n",
            "As the count 1 and count 2 is equal the strings are anagrams\n"
          ]
        }
      ],
      "source": [
        "#To check if the two inputs are anagrams or not\n",
        "str1=input(\"Enter the first string\")\n",
        "str2=input(\"Enter the second string\")\n",
        "count1=0\n",
        "i=0\n",
        "while(i<len(str1)):\n",
        "  count1=count1+ord(str1[i])\n",
        "  i=i+1\n",
        "print(\"count1=\",count1)\n",
        "count2=0\n",
        "j=0\n",
        "while(j<len(str2)):\n",
        "  count2=count2+ord(str2[j])\n",
        "  j=j+1\n",
        "print(\"count2=\",count2)\n",
        "if(count1==count2):\n",
        "    print(\"As the count 1 and count 2 is equal the strings are anagrams\")\n",
        "else:\n",
        "    print(\"The strings are not anagrams\")"
      ]
    },
    {
      "cell_type": "code",
      "source": [
        "#method II\n",
        "str1=input(\"Enter the string 1\")\n",
        "str2=input(\"Enter the string 2\")\n",
        "print(sorted(str1))\n",
        "print(sorted(str2))\n",
        "if (sorted(str1)==sorted(str2)):\n",
        "  print(\"the given strings are anagrams\")\n",
        "else:\n",
        "  print(\"the given strings are not anagrams\")\n"
      ],
      "metadata": {
        "colab": {
          "base_uri": "https://localhost:8080/"
        },
        "id": "I3hj2Ddxj35q",
        "outputId": "3c9b42ce-dac6-4c7d-c3bf-a818ea98319e"
      },
      "execution_count": 6,
      "outputs": [
        {
          "output_type": "stream",
          "name": "stdout",
          "text": [
            "Enter the string 1dusty\n",
            "Enter the string 2study\n",
            "['d', 's', 't', 'u', 'y']\n",
            "['d', 's', 't', 'u', 'y']\n",
            "the given strings are anagrams\n"
          ]
        }
      ]
    }
  ]
}